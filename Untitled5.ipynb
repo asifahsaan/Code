{
  "nbformat": 4,
  "nbformat_minor": 0,
  "metadata": {
    "colab": {
      "provenance": [],
      "authorship_tag": "ABX9TyMFyN4CfcqgEluvnL5mxMDo",
      "include_colab_link": true
    },
    "kernelspec": {
      "name": "python3",
      "display_name": "Python 3"
    },
    "language_info": {
      "name": "python"
    }
  },
  "cells": [
    {
      "cell_type": "markdown",
      "metadata": {
        "id": "view-in-github",
        "colab_type": "text"
      },
      "source": [
        "<a href=\"https://colab.research.google.com/github/asifahsaan/Code/blob/main/Untitled5.ipynb\" target=\"_parent\"><img src=\"https://colab.research.google.com/assets/colab-badge.svg\" alt=\"Open In Colab\"/></a>"
      ]
    },
    {
      "cell_type": "code",
      "source": [
        "from google.colab import drive\n",
        "drive.mount('/content/gdrive/', force_remount=True)"
      ],
      "metadata": {
        "colab": {
          "base_uri": "https://localhost:8080/"
        },
        "id": "WH8q-lnDOA3k",
        "outputId": "b490f19e-f03b-40eb-c690-e49d01ebf6fe"
      },
      "execution_count": 2,
      "outputs": [
        {
          "output_type": "stream",
          "name": "stdout",
          "text": [
            "Mounted at /content/gdrive/\n"
          ]
        }
      ]
    },
    {
      "cell_type": "code",
      "source": [
        "import pandas as pd\n",
        "store_data = pd.read_csv(\"/content/gdrive/MyDrive/Thesis Data/Dataset/store.csv\", low_memory=False)\n",
        "train_data = pd.read_csv(\"/content/gdrive/MyDrive/Thesis Data/Dataset/train.csv/train.csv\", low_memory=False,parse_dates = True, index_col='Date')\n",
        "test_data = pd.read_csv(\"/content/gdrive/MyDrive/Thesis Data/Dataset/test.csv/test.csv\", low_memory=False,parse_dates = True, index_col='Date')"
      ],
      "metadata": {
        "id": "Eam37AqcOBS0"
      },
      "execution_count": 9,
      "outputs": []
    },
    {
      "cell_type": "markdown",
      "source": [
        "### Work"
      ],
      "metadata": {
        "id": "wQPXPQv3ScH2"
      }
    },
    {
      "cell_type": "code",
      "source": [
        "#importing the libraries\n",
        "import numpy as np\n",
        "import pandas as pd\n",
        "from scipy import stats\n",
        "import datetime \n",
        "import plotly.express as px\n",
        "import seaborn as sns\n",
        "sns.set()\n",
        "import matplotlib.pyplot as plt\n",
        "%matplotlib inline\n",
        "from sklearn import preprocessing\n",
        "import plotly.graph_objects as go\n",
        "import warnings\n",
        "warnings.filterwarnings(\"ignore\")"
      ],
      "metadata": {
        "id": "jZpb5cJiRno2"
      },
      "execution_count": 8,
      "outputs": []
    },
    {
      "cell_type": "code",
      "source": [
        "%load /content/gdrive/MyDrive/Thesis Data/scripts/data_cleaner.py\n",
        "%load /content/gdrive/MyDrive/Thesis Data/scripts/data_preProcessing.py\n",
        "%load /content/gdrive/MyDrive/Thesis Data/scripts/log_help.py"
      ],
      "metadata": {
        "id": "kGBFt4QvUOdJ"
      },
      "execution_count": 21,
      "outputs": []
    },
    {
      "cell_type": "code",
      "source": [],
      "metadata": {
        "id": "SPVA9hY4St1r"
      },
      "execution_count": null,
      "outputs": []
    }
  ]
}